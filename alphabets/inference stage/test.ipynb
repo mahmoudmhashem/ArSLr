{
 "cells": [
  {
   "cell_type": "code",
   "execution_count": 1,
   "metadata": {},
   "outputs": [
    {
     "name": "stderr",
     "output_type": "stream",
     "text": [
      "c:\\Users\\Mahmoud\\miniconda3\\envs\\main\\lib\\site-packages\\sklearn\\base.py:318: UserWarning: Trying to unpickle estimator SVC from version 1.2.1 when using version 1.2.2. This might lead to breaking code or invalid results. Use at your own risk. For more info please refer to:\n",
      "https://scikit-learn.org/stable/model_persistence.html#security-maintainability-limitations\n",
      "  warnings.warn(\n",
      "c:\\Users\\Mahmoud\\miniconda3\\envs\\main\\lib\\site-packages\\sklearn\\base.py:318: UserWarning: Trying to unpickle estimator LabelEncoder from version 1.2.1 when using version 1.2.2. This might lead to breaking code or invalid results. Use at your own risk. For more info please refer to:\n",
      "https://scikit-learn.org/stable/model_persistence.html#security-maintainability-limitations\n",
      "  warnings.warn(\n"
     ]
    }
   ],
   "source": [
    "import os\n",
    "import cv2\n",
    "import numpy as np\n",
    "from MyModel import MyModel\n",
    "from PIL import Image\n",
    "\n",
    "# def putArText(image, text, color=(255, 0, 0), font_size=50, fontpath='../assets/amiri-regular.ttf'):\n",
    "#     font = ImageFont.truetype(fontpath, font_size)\n",
    "#     img_pil = Image.fromarray(image)\n",
    "#     draw = ImageDraw.Draw(img_pil)\n",
    "#     draw.text((50, 80),  text, font = font, fill = color)\n",
    "#     img = np.array(img_pil)\n",
    "#     return img\n",
    "\n",
    "model = MyModel()\n",
    "\n",
    "def putImage(frame, overlay_image, alpha = 175):\n",
    "    base_image = Image.fromarray(frame)\n",
    "    mask = Image.new('RGBA', overlay_image.size, (0, 0, 0, alpha))\n",
    "\n",
    "    base_image.paste(overlay_image, mask=mask)\n",
    "    frame = np.array(base_image)\n",
    "    return frame"
   ]
  },
  {
   "cell_type": "code",
   "execution_count": 2,
   "metadata": {},
   "outputs": [],
   "source": [
    "label2text = {\n",
    " 'aleff':'aleff - أ',\n",
    " 'zay':'zay - ز',\n",
    " 'seen':'seen - س',\n",
    " 'sheen':'sheen - ش',\n",
    " 'saad':'saad - ص',\n",
    " 'dhad':'dhad - ض',\n",
    " 'taa':'tah - ط',\n",
    " 'dha':'dhaa - ظ',\n",
    " 'ain':'ain - ع',\n",
    " 'ghain':'ghain - غ',\n",
    " 'fa':'faa - ف',\n",
    " 'bb':'baa - ب',\n",
    " 'gaaf':'qaaf - ق',\n",
    " 'kaaf':'kaaf - ك',\n",
    " 'laam':'laam - ل',\n",
    " 'meem':'meem - م',\n",
    " 'nun':'noon - ن',\n",
    " 'ha':'haa - ه',\n",
    " 'waw':'waw - و',\n",
    " 'yaa':'ya - ئ',\n",
    " 'toot':'taa marbouta - ة',\n",
    " 'al':'al - لا',\n",
    " 'ta':'taa - ت',\n",
    " 'la':'la - ال',\n",
    " 'ya':'yaa - ى',\n",
    " 'thaa':'thaa - ث',\n",
    " 'jeem':'jeem - ج',\n",
    " 'haa':'haa - ح',\n",
    " 'khaa':'khaa - خ',\n",
    " 'dal':'dal - د',\n",
    " 'thal':'thal - ذ',\n",
    " 'ra':'raa - ر'\n",
    " }\n",
    "labels = label2text.keys()\n",
    "label2image = {}\n",
    "for label in labels:\n",
    "    imgname = label + '.png'\n",
    "    imgpath = '../assets/image_lables/' + imgname\n",
    "    label2image[label] = Image.open(imgpath)"
   ]
  },
  {
   "cell_type": "code",
   "execution_count": 3,
   "metadata": {},
   "outputs": [],
   "source": [
    "cap = cv2.VideoCapture(0)\n",
    "\n",
    "try:\n",
    "    while True:\n",
    "        ret, frame = cap.read()\n",
    "        frame = cv2.flip(frame, 1)\n",
    "\n",
    "        label, prop = model.predict([frame])\n",
    "        if label[0] != '-1' and prop[0] > 0.5:\n",
    "            image = label2image[label[0]]\n",
    "            frame = putImage(frame, image)\n",
    "        else:\n",
    "            cv2.putText(frame, \"Please Sign a Letter\", (150,30),\n",
    "                            cv2.FONT_HERSHEY_SIMPLEX, 1, 0, 2, cv2.LINE_AA)\n",
    "        cv2.imshow('Letters of Arabic Sign Language Recognition', frame)\n",
    "\n",
    "        if cv2.waitKey(1) & 0xFF == ord('q'):\n",
    "            break\n",
    "    cap.release()\n",
    "    cv2.destroyAllWindows()\n",
    "except Exception as e:\n",
    "    cap.release()\n",
    "    cv2.destroyAllWindows()\n",
    "    raise e"
   ]
  }
 ],
 "metadata": {
  "kernelspec": {
   "display_name": "Arec",
   "language": "python",
   "name": "python3"
  },
  "language_info": {
   "codemirror_mode": {
    "name": "ipython",
    "version": 3
   },
   "file_extension": ".py",
   "mimetype": "text/x-python",
   "name": "python",
   "nbconvert_exporter": "python",
   "pygments_lexer": "ipython3",
   "version": "3.9.16"
  },
  "orig_nbformat": 4
 },
 "nbformat": 4,
 "nbformat_minor": 2
}
