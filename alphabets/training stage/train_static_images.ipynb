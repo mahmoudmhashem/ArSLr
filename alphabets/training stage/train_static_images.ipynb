{
 "cells": [
  {
   "cell_type": "code",
   "execution_count": 1,
   "metadata": {
    "collapsed": true
   },
   "outputs": [],
   "source": [
    "import os\n",
    "import numpy as np\n",
    "from tqdm import tqdm\n",
    "from sklearn.svm import SVC\n",
    "from sklearn.metrics import accuracy_score\n",
    "from scipy.spatial.distance import euclidean\n",
    "from sklearn.preprocessing import LabelEncoder\n",
    "from sklearn.model_selection import train_test_split"
   ]
  },
  {
   "cell_type": "code",
   "execution_count": 2,
   "metadata": {},
   "outputs": [],
   "source": [
    "def get_npy_paths(path):\n",
    "    All_npys_paths = []\n",
    "    labels = []\n",
    "\n",
    "    for char_dir in os.listdir(path):\n",
    "        char_dir_path = os.path.join(path, char_dir)\n",
    "        for char_npy in os.listdir(char_dir_path):\n",
    "            char_npy_path = os.path.join(char_dir_path, char_npy)\n",
    "            All_npys_paths.append(char_npy_path)\n",
    "            labels.append(char_dir)\n",
    "            \n",
    "    return All_npys_paths, labels\n",
    "\n",
    "def PathToNpy(npy_paths):\n",
    "    data = np.zeros((len(npy_paths), 21*2))\n",
    "    for i, npy_path in enumerate(tqdm(npy_paths)) :\n",
    "        landmarks = np.load(npy_path)\n",
    "        data[i] = landmarks[:, :2].flatten()\n",
    "    return data"
   ]
  },
  {
   "cell_type": "code",
   "execution_count": 3,
   "metadata": {},
   "outputs": [
    {
     "name": "stderr",
     "output_type": "stream",
     "text": [
      "100%|██████████| 9551/9551 [02:19<00:00, 68.33it/s] \n"
     ]
    }
   ],
   "source": [
    "dataset_path = r\"npy/dataset/path\"\n",
    "\n",
    "le = LabelEncoder()\n",
    "\n",
    "npys_paths, labels = get_npy_paths(dataset_path)\n",
    "npys = PathToNpy(npys_paths)\n",
    "labels = le.fit_transform(labels)"
   ]
  },
  {
   "cell_type": "code",
   "execution_count": 4,
   "metadata": {},
   "outputs": [],
   "source": [
    "x_train, x_test, y_train, y_test = train_test_split(npys, labels, test_size=0.3, random_state=42, shuffle=True)"
   ]
  },
  {
   "cell_type": "code",
   "execution_count": 45,
   "metadata": {},
   "outputs": [
    {
     "name": "stdout",
     "output_type": "stream",
     "text": [
      "train_acc:  98.69857890800299\n",
      "test_acc:  97.27843684577809\n",
      "diff:  1.420142062224894\n"
     ]
    }
   ],
   "source": [
    "svc = SVC(C=15, probability=True)\n",
    "svc.fit(x_train, y_train)\n",
    "\n",
    "y_train_pred = svc.predict(x_train)\n",
    "y_test_pred = svc.predict(x_test)\n",
    "\n",
    "train_acc = accuracy_score(y_train, y_train_pred)\n",
    "test_acc = accuracy_score(y_test, y_test_pred)\n",
    "\n",
    "print(\"train_acc: \", train_acc*100)\n",
    "print(\"test_acc: \", test_acc*100)\n",
    "print(\"diff: \", (train_acc - test_acc)*100)"
   ]
  },
  {
   "cell_type": "markdown",
   "metadata": {},
   "source": [
    "# Trash"
   ]
  },
  {
   "cell_type": "code",
   "execution_count": 35,
   "metadata": {},
   "outputs": [
    {
     "data": {
      "text/plain": [
       "0.0"
      ]
     },
     "execution_count": 35,
     "metadata": {},
     "output_type": "execute_result"
    }
   ],
   "source": [
    "r = -1\n",
    "(1/(1-r)-0.5)*2"
   ]
  },
  {
   "cell_type": "code",
   "execution_count": null,
   "metadata": {},
   "outputs": [],
   "source": [
    "(1-r**n)/(1-r)"
   ]
  },
  {
   "cell_type": "code",
   "execution_count": 42,
   "metadata": {},
   "outputs": [],
   "source": [
    "def inf_kernel(sample1:np.ndarray, sample2:np.ndarray, n=1e10):\n",
    "    sample1 = sample1/np.linalg.norm(sample1)\n",
    "    sample2 = sample2/np.linalg.norm(sample2)\n",
    "    r =  np.dot(sample1, sample2)  # cos distance between samples\n",
    "    r = (r-1)/2\n",
    "    similarity = (1-r**n)/(1-r) if r !=1 else n     # RBF kernel formula\n",
    "    return similarity\n",
    "\n",
    "def get_gram(x1, x2, kernel):\n",
    "    return np.array([[kernel(_x1, _x2) for _x2 in x2] for _x1 in x1])\n",
    "\n",
    "def sim(r, gamma=1, n=1e10):\n",
    "    r = (r-1)/2 # rescale cos similarity to to be from -1, 0\n",
    "    similarity = (1/(1-r)-0.5)*2\n",
    "    return similarity**gamma\n",
    "    # return np.exp(r*gamma)\n",
    "\n",
    "def get_gram(x1, x2, kernel):\n",
    "    x1_norm = x1/np.linalg.norm(x1, axis=1).reshape(-1, 1)\n",
    "    x2_norm = x2/np.linalg.norm(x2, axis=1).reshape(-1, 1)\n",
    "    return kernel(x1_norm@x2_norm.T, gamma= 2) # (1/(x_train.var() * 42))%10"
   ]
  },
  {
   "cell_type": "code",
   "execution_count": 44,
   "metadata": {},
   "outputs": [
    {
     "name": "stdout",
     "output_type": "stream",
     "text": [
      "train_acc:  98.44427823485415\n",
      "test_acc:  97.27843684577809\n",
      "1.165841389076061\n"
     ]
    }
   ],
   "source": [
    "svc = SVC(C=7, kernel='precomputed')\n",
    "svc.fit(get_gram(x_train, x_train, sim), y_train)\n",
    "\n",
    "y_train_pred = svc.predict(get_gram(x_train, x_train, sim))\n",
    "y_test_pred = svc.predict(get_gram(x_test, x_train, sim))\n",
    "\n",
    "train_acc = accuracy_score(y_train, y_train_pred)\n",
    "test_acc = accuracy_score(y_test, y_test_pred)\n",
    "\n",
    "print(\"train_acc: \", train_acc*100)\n",
    "print(\"test_acc: \", test_acc*100)\n",
    "print((train_acc - test_acc)*100)"
   ]
  },
  {
   "cell_type": "code",
   "execution_count": 48,
   "metadata": {},
   "outputs": [
    {
     "name": "stdout",
     "output_type": "stream",
     "text": [
      "train_acc:  0.9869857890800299\n",
      "test_acc:  0.9727843684577809\n",
      "1.420142062224894\n"
     ]
    }
   ],
   "source": [
    "svc = SVC(C=15)\n",
    "x_train_norm = x_train # /np.linalg.norm(x_train, axis=1).reshape(-1, 1)\n",
    "x_test_norm = x_test # /np.linalg.norm(x_test, axis=1).reshape(-1, 1)\n",
    "svc.fit(x_train_norm, y_train)\n",
    "\n",
    "y_train_pred = svc.predict(x_train_norm)\n",
    "y_test_pred = svc.predict(x_test_norm)\n",
    "\n",
    "train_acc = accuracy_score(y_train, y_train_pred)\n",
    "test_acc = accuracy_score(y_test, y_test_pred)\n",
    "\n",
    "print(\"train_acc: \", train_acc)\n",
    "print(\"test_acc: \", test_acc)\n",
    "print((train_acc - test_acc)*100)"
   ]
  },
  {
   "cell_type": "code",
   "execution_count": null,
   "metadata": {},
   "outputs": [],
   "source": []
  }
 ],
 "metadata": {
  "kernelspec": {
   "display_name": "Python 3",
   "language": "python",
   "name": "python3"
  },
  "language_info": {
   "codemirror_mode": {
    "name": "ipython",
    "version": 3
   },
   "file_extension": ".py",
   "mimetype": "text/x-python",
   "name": "python",
   "nbconvert_exporter": "python",
   "pygments_lexer": "ipython3",
   "version": "3.9.16"
  }
 },
 "nbformat": 4,
 "nbformat_minor": 0
}
